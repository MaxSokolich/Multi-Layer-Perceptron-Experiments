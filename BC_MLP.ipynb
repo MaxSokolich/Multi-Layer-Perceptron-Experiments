{
 "cells": [
  {
   "cell_type": "code",
   "execution_count": 1,
   "metadata": {},
   "outputs": [],
   "source": [
    "import numpy as np\n",
    "import matplotlib.pyplot as plt \n",
    "import torch\n",
    "import torch.nn as nn\n",
    "import torch.nn.functional as F\n",
    "\n",
    "import sys\n",
    "import json\n",
    "import os\n",
    "from chop import Chop\n",
    "import json    \n",
    "from torch.utils.data import TensorDataset, DataLoader, random_split\n",
    "import torch.nn as nn\n",
    "import torch.optim as optim\n"
   ]
  },
  {
   "cell_type": "code",
   "execution_count": 2,
   "metadata": {},
   "outputs": [],
   "source": [
    "### torch network\n",
    "class Net(nn.Module):\n",
    "    def __init__(self, input_dim, output_dim):\n",
    "        super(Net, self).__init__()\n",
    "        self.fc1 = nn.Linear(input_dim, 128)\n",
    "        self.fc2 = nn.Linear(128, 64)\n",
    "        self.fc3 = nn.Linear(64, output_dim)\n",
    "\n",
    "    def forward(self, x):\n",
    "        x = F.relu(self.fc1(x))\n",
    "        x = F.relu(self.fc2(x))\n",
    "        x = self.fc3(x)\n",
    "        return x"
   ]
  },
  {
   "cell_type": "code",
   "execution_count": null,
   "metadata": {},
   "outputs": [
    {
     "name": "stderr",
     "output_type": "stream",
     "text": [
      "/tmp/ipykernel_196692/1624342971.py:2: FutureWarning: You are using `torch.load` with `weights_only=False` (the current default value), which uses the default pickle module implicitly. It is possible to construct malicious pickle data which will execute arbitrary code during unpickling (See https://github.com/pytorch/pytorch/blob/main/SECURITY.md#untrusted-models for more details). In a future release, the default value for `weights_only` will be flipped to `True`. This limits the functions that could be executed during unpickling. Arbitrary objects will no longer be allowed to be loaded via this mode unless they are explicitly allowlisted by the user via `torch.serialization.add_safe_globals`. We recommend you start setting `weights_only=True` for any use case where you don't have full control of the loaded file. Please open an issue on GitHub for any issues related to this experimental feature.\n",
      "  obs_ls, act_ls = torch.load('dataset100k.pt')\n"
     ]
    },
    {
     "name": "stdout",
     "output_type": "stream",
     "text": [
      "obs_ls shape:  torch.Size([6910796, 8])\n",
      "act_ls shape:  torch.Size([6910796, 4])\n"
     ]
    }
   ],
   "source": [
    "### load data\n",
    "obs_ls, act_ls = torch.load('dataset100k.pt')\n",
    "\n",
    "print(\"obs_ls shape: \", obs_ls.shape)\n",
    "print(\"act_ls shape: \", act_ls.shape)\n",
    "dataset = TensorDataset(obs_ls, act_ls)\n",
    "\n",
    "# Set split sizes \n",
    "train_size = int(0.9 * len(dataset))\n",
    "test_size = len(dataset) - train_size\n",
    "\n",
    "# Split the dataset\n",
    "train_dataset, test_dataset = random_split(dataset, [train_size, test_size])\n",
    "\n",
    "# Create DataLoaders\n",
    "batch_size = int(2*4096)\n",
    "train_loader = DataLoader(train_dataset, batch_size=batch_size, shuffle=True)\n",
    "test_loader = DataLoader(test_dataset, batch_size=batch_size, shuffle=False)\n"
   ]
  },
  {
   "cell_type": "code",
   "execution_count": 10,
   "metadata": {},
   "outputs": [
    {
     "name": "stdout",
     "output_type": "stream",
     "text": [
      "Using device:  cuda\n"
     ]
    }
   ],
   "source": [
    "device = torch.device(\"cuda\" if torch.cuda.is_available() else \"cpu\")\n",
    "print(\"Using device: \", device)\n"
   ]
  },
  {
   "cell_type": "code",
   "execution_count": 11,
   "metadata": {},
   "outputs": [],
   "source": [
    "model = Net(input_dim=obs_ls.shape[1], output_dim=act_ls.shape[1])\n",
    "model = nn.DataParallel(model) \n",
    "model = model.to(device)\n",
    "criterion = nn.MSELoss()  # Or CrossEntropyLoss, etc.\n",
    "optimizer = optim.Adam(model.parameters(), lr=0.001)"
   ]
  },
  {
   "cell_type": "code",
   "execution_count": null,
   "metadata": {},
   "outputs": [
    {
     "name": "stderr",
     "output_type": "stream",
     "text": [
      "/home/mker/anaconda3/envs/stable_RL/lib/python3.10/site-packages/torch/nn/modules/linear.py:125: UserWarning: Attempting to run cuBLAS, but there was no current CUDA context! Attempting to set the primary context... (Triggered internally at /opt/conda/conda-bld/pytorch_1729647327489/work/aten/src/ATen/cuda/CublasHandlePool.cpp:135.)\n",
      "  return F.linear(input, self.weight, self.bias)\n"
     ]
    },
    {
     "name": "stdout",
     "output_type": "stream",
     "text": [
      "Epoch 1: Avg Loss = 3013.9707\n",
      "Epoch 2: Avg Loss = 2968.3005\n",
      "Epoch 3: Avg Loss = 2932.9305\n",
      "Epoch 4: Avg Loss = 2897.6089\n",
      "Epoch 5: Avg Loss = 2862.8923\n",
      "Epoch 6: Avg Loss = 2826.9570\n",
      "Epoch 7: Avg Loss = 2789.0576\n",
      "Epoch 8: Avg Loss = 2750.1678\n",
      "Epoch 9: Avg Loss = 2708.4259\n",
      "Epoch 10: Avg Loss = 2668.4770\n",
      "Epoch 11: Avg Loss = 2628.0162\n",
      "Epoch 12: Avg Loss = 2587.8928\n",
      "Epoch 13: Avg Loss = 2552.1216\n",
      "Epoch 14: Avg Loss = 2519.7610\n",
      "Epoch 15: Avg Loss = 2490.6486\n",
      "Epoch 16: Avg Loss = 2465.1013\n",
      "Epoch 17: Avg Loss = 2442.2747\n",
      "Epoch 18: Avg Loss = 2420.2334\n",
      "Epoch 19: Avg Loss = 2401.0850\n",
      "Epoch 20: Avg Loss = 2382.4844\n",
      "Epoch 21: Avg Loss = 2363.7763\n",
      "Epoch 22: Avg Loss = 2349.7869\n",
      "Epoch 23: Avg Loss = 2335.6760\n",
      "Epoch 24: Avg Loss = 2322.1997\n"
     ]
    }
   ],
   "source": [
    "num_epochs = 30\n",
    "epoch_losses = []\n",
    "\n",
    "for epoch in range(num_epochs):\n",
    "    model.train()\n",
    "    total_loss = 0\n",
    "    batch_count = 0\n",
    "\n",
    "    for batch_X, batch_y in train_loader:\n",
    "        batch_X = batch_X.to(device).float()\n",
    "        batch_y = batch_y.to(device).float()\n",
    "\n",
    "        optimizer.zero_grad()\n",
    "        outputs = model(batch_X)\n",
    "        loss = criterion(outputs, batch_y)\n",
    "        loss.backward()\n",
    "        optimizer.step()\n",
    "\n",
    "        total_loss += loss.item()\n",
    "        batch_count += 1\n",
    "\n",
    "    avg_loss = total_loss / batch_count\n",
    "    epoch_losses.append(avg_loss)\n",
    "    print(f\"Epoch {epoch+1}: Avg Loss = {avg_loss:.4f}\")\n"
   ]
  },
  {
   "cell_type": "code",
   "execution_count": null,
   "metadata": {},
   "outputs": [],
   "source": [
    "plt.plot(epoch_losses)\n",
    "plt.title('Loss over epochs')\n",
    "plt.xlabel('Epochs')\n",
    "plt.ylabel('Loss')\n",
    "# plt.savefig('loss.png')\n",
    "plt.show()"
   ]
  },
  {
   "cell_type": "code",
   "execution_count": null,
   "metadata": {},
   "outputs": [],
   "source": [
    "torch.save(model.state_dict(), \"model_weights.pth\")\n"
   ]
  }
 ],
 "metadata": {
  "kernelspec": {
   "display_name": "stable_RL",
   "language": "python",
   "name": "python3"
  },
  "language_info": {
   "codemirror_mode": {
    "name": "ipython",
    "version": 3
   },
   "file_extension": ".py",
   "mimetype": "text/x-python",
   "name": "python",
   "nbconvert_exporter": "python",
   "pygments_lexer": "ipython3",
   "version": "3.10.16"
  }
 },
 "nbformat": 4,
 "nbformat_minor": 2
}
