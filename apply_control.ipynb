{
  "cells": [
    {
      "cell_type": "code",
      "execution_count": 1,
      "metadata": {
        "colab": {
          "base_uri": "https://localhost:8080/"
        },
        "id": "OVOklo-HWpXg",
        "outputId": "6308213f-5cb1-4196-9c70-a35c1f2029e5"
      },
      "outputs": [
        {
          "name": "stderr",
          "output_type": "stream",
          "text": [
            "C:\\Users\\Das_Lab_Admin\\AppData\\Local\\Temp\\ipykernel_8872\\126694073.py:32: FutureWarning: You are using `torch.load` with `weights_only=False` (the current default value), which uses the default pickle module implicitly. It is possible to construct malicious pickle data which will execute arbitrary code during unpickling (See https://github.com/pytorch/pytorch/blob/main/SECURITY.md#untrusted-models for more details). In a future release, the default value for `weights_only` will be flipped to `True`. This limits the functions that could be executed during unpickling. Arbitrary objects will no longer be allowed to be loaded via this mode unless they are explicitly allowlisted by the user via `torch.serialization.add_safe_globals`. We recommend you start setting `weights_only=True` for any use case where you don't have full control of the loaded file. Please open an issue on GitHub for any issues related to this experimental feature.\n",
            "  model_a.load_state_dict(torch.load('model_a_1520.pt'))\n",
            "C:\\Users\\Das_Lab_Admin\\AppData\\Local\\Temp\\ipykernel_8872\\126694073.py:33: FutureWarning: You are using `torch.load` with `weights_only=False` (the current default value), which uses the default pickle module implicitly. It is possible to construct malicious pickle data which will execute arbitrary code during unpickling (See https://github.com/pytorch/pytorch/blob/main/SECURITY.md#untrusted-models for more details). In a future release, the default value for `weights_only` will be flipped to `True`. This limits the functions that could be executed during unpickling. Arbitrary objects will no longer be allowed to be loaded via this mode unless they are explicitly allowlisted by the user via `torch.serialization.add_safe_globals`. We recommend you start setting `weights_only=True` for any use case where you don't have full control of the loaded file. Please open an issue on GitHub for any issues related to this experimental feature.\n",
            "  model_b.load_state_dict(torch.load('model_b_1520.pt'))\n"
          ]
        }
      ],
      "source": [
        "import scipy.io\n",
        "import random\n",
        "import torch\n",
        "import numpy as np\n",
        "from torch import nn\n",
        "import matplotlib.pylab as plt\n",
        "class MLP(nn.Module):\n",
        "\n",
        "    def __init__(self, nInput, nOutput):\n",
        "        super(MLP, self).__init__()\n",
        "\n",
        "        # two hidden layers\n",
        "        self.layers = nn.Sequential(\n",
        "            nn.Linear(nInput, 40),\n",
        "            nn.ReLU(),\n",
        "            nn.Linear(40, 60),\n",
        "            nn.ReLU(),\n",
        "            nn.Linear(60, nOutput)\n",
        "        )\n",
        "\n",
        "    def forward(self, x):\n",
        "        x = self.layers(x)\n",
        "        return x\n",
        "\n",
        "# from google.colab import drive\n",
        "# drive.mount('/content/drive/')\n",
        "\n",
        "nInput = 2\n",
        "nOutput = 2+2+2\n",
        "model_a = MLP(nInput, nOutput)\n",
        "model_b = MLP(nInput, nOutput)\n",
        "model_a.load_state_dict(torch.load('model_a_1520.pt'))\n",
        "model_b.load_state_dict(torch.load('model_b_1520.pt'))\n",
        "\n",
        "train_data_a = scipy.io.loadmat('data_a_2_1520.mat')\n",
        "a_train_db = torch.tensor(train_data_a['db'])\n",
        "a_train_ctrl = torch.tensor(train_data_a['ctrl'])\n",
        "a_means = torch.tensor(train_data_a['means'])\n",
        "train_data_b = scipy.io.loadmat('data_b_2_1520.mat')\n",
        "b_train_da = torch.tensor(train_data_b['da'])\n",
        "b_train_ctrl = torch.tensor(train_data_b['ctrl'])\n",
        "b_means = torch.tensor(train_data_b['means'])\n",
        "\n",
        "FREQS = torch.tensor(train_data_b['freqs'])\n",
        "MEAN_SPEED = torch.tensor(train_data_b['speeds'])"
      ]
    },
    {
      "cell_type": "code",
      "execution_count": 5,
      "metadata": {
        "cellView": "form",
        "id": "-wLDabAmt7us"
      },
      "outputs": [],
      "source": [
        "# @title Interp1d\n",
        "import torch\n",
        "import contextlib\n",
        "\n",
        "class Interp1d(torch.autograd.Function):\n",
        "    @staticmethod\n",
        "    def forward(ctx, x, y, xnew, out=None):\n",
        "        \"\"\"\n",
        "        Linear 1D interpolation on the GPU for Pytorch.\n",
        "        This function returns interpolated values of a set of 1-D functions at\n",
        "        the desired query points `xnew`.\n",
        "        This function is working similarly to Matlab™ or scipy functions with\n",
        "        the `linear` interpolation mode on, except that it parallelises over\n",
        "        any number of desired interpolation problems.\n",
        "        The code will run on GPU if all the tensors provided are on a cuda\n",
        "        device.\n",
        "\n",
        "        Parameters\n",
        "        ----------\n",
        "        x : (N, ) or (D, N) Pytorch Tensor\n",
        "            A 1-D or 2-D tensor of real values.\n",
        "        y : (N,) or (D, N) Pytorch Tensor\n",
        "            A 1-D or 2-D tensor of real values. The length of `y` along its\n",
        "            last dimension must be the same as that of `x`\n",
        "        xnew : (P,) or (D, P) Pytorch Tensor\n",
        "            A 1-D or 2-D tensor of real values. `xnew` can only be 1-D if\n",
        "            _both_ `x` and `y` are 1-D. Otherwise, its length along the first\n",
        "            dimension must be the same as that of whichever `x` and `y` is 2-D.\n",
        "        out : Pytorch Tensor, same shape as `xnew`\n",
        "            Tensor for the output. If None: allocated automatically.\n",
        "\n",
        "        \"\"\"\n",
        "        # making the vectors at least 2D\n",
        "        is_flat = {}\n",
        "        require_grad = {}\n",
        "        v = {}\n",
        "        device = []\n",
        "        eps = torch.finfo(y.dtype).eps\n",
        "        for name, vec in {'x': x, 'y': y, 'xnew': xnew}.items():\n",
        "            assert len(vec.shape) <= 2, 'interp1d: all inputs must be '\\\n",
        "                                        'at most 2-D.'\n",
        "            if len(vec.shape) == 1:\n",
        "                v[name] = vec[None, :]\n",
        "            else:\n",
        "                v[name] = vec\n",
        "            is_flat[name] = v[name].shape[0] == 1\n",
        "            require_grad[name] = vec.requires_grad\n",
        "            device = list(set(device + [str(vec.device)]))\n",
        "        assert len(device) == 1, 'All parameters must be on the same device.'\n",
        "        device = device[0]\n",
        "\n",
        "        # Checking for the dimensions\n",
        "        assert (v['x'].shape[1] == v['y'].shape[1]\n",
        "                and (\n",
        "                     v['x'].shape[0] == v['y'].shape[0]\n",
        "                     or v['x'].shape[0] == 1\n",
        "                     or v['y'].shape[0] == 1\n",
        "                    )\n",
        "                ), (\"x and y must have the same number of columns, and either \"\n",
        "                    \"the same number of row or one of them having only one \"\n",
        "                    \"row.\")\n",
        "\n",
        "        reshaped_xnew = False\n",
        "        if ((v['x'].shape[0] == 1) and (v['y'].shape[0] == 1)\n",
        "           and (v['xnew'].shape[0] > 1)):\n",
        "            # if there is only one row for both x and y, there is no need to\n",
        "            # loop over the rows of xnew because they will all have to face the\n",
        "            # same interpolation problem. We should just stack them together to\n",
        "            # call interp1d and put them back in place afterwards.\n",
        "            original_xnew_shape = v['xnew'].shape\n",
        "            v['xnew'] = v['xnew'].contiguous().view(1, -1)\n",
        "            reshaped_xnew = True\n",
        "\n",
        "        # identify the dimensions of output and check if the one provided is ok\n",
        "        D = max(v['x'].shape[0], v['xnew'].shape[0])\n",
        "        shape_ynew = (D, v['xnew'].shape[-1])\n",
        "        if out is not None:\n",
        "            if out.numel() != shape_ynew[0]*shape_ynew[1]:\n",
        "                # The output provided is of incorrect shape.\n",
        "                # Going for a new one\n",
        "                out = None\n",
        "            else:\n",
        "                ynew = out.reshape(shape_ynew)\n",
        "        if out is None:\n",
        "            ynew = torch.zeros(*shape_ynew, device=device)\n",
        "\n",
        "        # moving everything to the desired device in case it was not there\n",
        "        # already (not handling the case things do not fit entirely, user will\n",
        "        # do it if required.)\n",
        "        for name in v:\n",
        "            v[name] = v[name].to(device)\n",
        "\n",
        "        # calling searchsorted on the x values.\n",
        "        ind = ynew.long()\n",
        "\n",
        "        # expanding xnew to match the number of rows of x in case only one xnew is\n",
        "        # provided\n",
        "        if v['xnew'].shape[0] == 1:\n",
        "            v['xnew'] = v['xnew'].expand(v['x'].shape[0], -1)\n",
        "\n",
        "        # the squeeze is because torch.searchsorted does accept either a nd with\n",
        "        # matching shapes for x and xnew or a 1d vector for x. Here we would\n",
        "        # have (1,len) for x sometimes\n",
        "        torch.searchsorted(v['x'].contiguous().squeeze(),\n",
        "                           v['xnew'].contiguous(), out=ind)\n",
        "\n",
        "        # the `-1` is because searchsorted looks for the index where the values\n",
        "        # must be inserted to preserve order. And we want the index of the\n",
        "        # preceeding value.\n",
        "        ind -= 1\n",
        "        # we clamp the index, because the number of intervals is x.shape-1,\n",
        "        # and the left neighbour should hence be at most number of intervals\n",
        "        # -1, i.e. number of columns in x -2\n",
        "        ind = torch.clamp(ind, 0, v['x'].shape[1] - 1 - 1)\n",
        "\n",
        "        # helper function to select stuff according to the found indices.\n",
        "        def sel(name):\n",
        "            if is_flat[name]:\n",
        "                return v[name].contiguous().view(-1)[ind]\n",
        "            return torch.gather(v[name], 1, ind)\n",
        "\n",
        "        # activating gradient storing for everything now\n",
        "        enable_grad = False\n",
        "        saved_inputs = []\n",
        "        for name in ['x', 'y', 'xnew']:\n",
        "            if require_grad[name]:\n",
        "                enable_grad = True\n",
        "                saved_inputs += [v[name]]\n",
        "            else:\n",
        "                saved_inputs += [None, ]\n",
        "        # assuming x are sorted in the dimension 1, computing the slopes for\n",
        "        # the segments\n",
        "        is_flat['slopes'] = is_flat['x']\n",
        "        # now we have found the indices of the neighbors, we start building the\n",
        "        # output. Hence, we start also activating gradient tracking\n",
        "        with torch.enable_grad() if enable_grad else contextlib.suppress():\n",
        "            v['slopes'] = (\n",
        "                    (v['y'][:, 1:]-v['y'][:, :-1])\n",
        "                    /\n",
        "                    (eps + (v['x'][:, 1:]-v['x'][:, :-1]))\n",
        "                )\n",
        "\n",
        "            # now build the linear interpolation\n",
        "            ynew = sel('y') + sel('slopes')*(\n",
        "                                    v['xnew'] - sel('x'))\n",
        "\n",
        "            if reshaped_xnew:\n",
        "                ynew = ynew.view(original_xnew_shape)\n",
        "\n",
        "        ctx.save_for_backward(ynew, *saved_inputs)\n",
        "        return ynew\n",
        "\n",
        "    @staticmethod\n",
        "    def backward(ctx, grad_out):\n",
        "        inputs = ctx.saved_tensors[1:]\n",
        "        gradients = torch.autograd.grad(\n",
        "                        ctx.saved_tensors[0],\n",
        "                        [i for i in inputs if i is not None],\n",
        "                        grad_out, retain_graph=True)\n",
        "        result = [None, ] * 5\n",
        "        pos = 0\n",
        "        for index in range(len(inputs)):\n",
        "            if inputs[index] is not None:\n",
        "                result[index] = gradients[pos]\n",
        "                pos += 1\n",
        "        return (*result,)\n",
        "\n",
        "\n",
        "interp1d = Interp1d.apply"
      ]
    },
    {
      "cell_type": "code",
      "execution_count": 6,
      "metadata": {
        "id": "O_JhS8AoXiGM"
      },
      "outputs": [],
      "source": [
        "def getControl(da, db):\n",
        "    mag_a = torch.sqrt(torch.dot(da,da))\n",
        "    mag_b = torch.sqrt(torch.dot(db,db))\n",
        "    if mag_a > mag_b:\n",
        "        angle = torch.arctan2(da[1], da[0]) - torch.pi/2;\n",
        "        A = torch.tensor([[torch.cos(-angle), -torch.sin(-angle)], [torch.sin(-angle), torch.cos(-angle)]]) / mag_a\n",
        "        db = A @ db\n",
        "\n",
        "        reflect = False\n",
        "        if db[0] < 0:\n",
        "            db[0] = -db[0]\n",
        "            reflect = True\n",
        "\n",
        "        ctrl = model_a(db.float()).double() + a_means\n",
        "        if reflect:\n",
        "            ctrl[:,2:4] = torch.arctan2(torch.sin(ctrl[:,2:4]), -torch.cos(ctrl[:,2:4]))\n",
        "\n",
        "        ctrl[:,2:4] += angle\n",
        "        ctrl[:,4:6] *= mag_a\n",
        "\n",
        "        return ctrl\n",
        "    else:\n",
        "        angle = torch.arctan2(db[1], db[0]) - torch.pi/2;\n",
        "        A = torch.tensor([[torch.cos(-angle), -torch.sin(-angle)], [torch.sin(-angle), torch.cos(-angle)]]) / mag_b\n",
        "        da = A @ da\n",
        "\n",
        "        reflect = False\n",
        "        if da[0] < 0:\n",
        "            da[0] = -da[0]\n",
        "            reflect = True\n",
        "\n",
        "\n",
        "        ctrl = model_b(da.float()).double() + b_means\n",
        "\n",
        "        if reflect:\n",
        "            ctrl[:,2:4] = torch.arctan2(torch.sin(ctrl[:,2:4]), -torch.cos(ctrl[:,2:4]))\n",
        "\n",
        "        ctrl[:,2:4] += angle\n",
        "        ctrl[:,4:6] *= mag_b\n",
        "\n",
        "        return ctrl"
      ]
    },
    {
      "cell_type": "code",
      "execution_count": 7,
      "metadata": {
        "colab": {
          "base_uri": "https://localhost:8080/"
        },
        "id": "p3Mm2pyCazs0",
        "outputId": "c1d9acb2-3f0a-423a-8f3a-d9b3c5c1cde0"
      },
      "outputs": [
        {
          "name": "stdout",
          "output_type": "stream",
          "text": [
            "tensor([0.4500, 1.2000])\n",
            "tensor([-0.7000,  0.6000])\n",
            "tensor([[14.9934, 20.0005,  1.1257, -2.0115,  7.8709,  5.9844]],\n",
            "       dtype=torch.float64, grad_fn=<CopySlices>)\n",
            "tensor([1.8112, 2.3523], grad_fn=<CopySlices>)\n",
            "tensor([9.2289, 8.9059], grad_fn=<CopySlices>)\n"
          ]
        }
      ],
      "source": [
        "# test getControl\n",
        "da = torch.tensor([.45, 1.2])\n",
        "db = torch.tensor([-0.7, 0.6])\n",
        "print(da)\n",
        "print(db)\n",
        "ctrl = getControl(da, db)\n",
        "print(ctrl)\n",
        "\n",
        "speeds_a = interp1d(FREQS, MEAN_SPEED[0,:], torch.round(ctrl[:,0:2])).squeeze()\n",
        "speeds_b = interp1d(FREQS, MEAN_SPEED[1,:], torch.round(ctrl[:,0:2])).squeeze()\n",
        "angles = ctrl[:,2:4].squeeze()\n",
        "deltaTimes = ctrl[:,4:6].squeeze()\n",
        "\n",
        "delta_a = torch.zeros(2)\n",
        "delta_b = torch.zeros(2)\n",
        "delta_a[0] = torch.sum(speeds_a * torch.cos(angles) * deltaTimes) #x\n",
        "delta_a[1] = torch.sum(speeds_a * torch.sin(angles) * deltaTimes) #y\n",
        "delta_b[0] = torch.sum(speeds_b * torch.cos(angles) * deltaTimes) #x\n",
        "delta_b[1] = torch.sum(speeds_b * torch.sin(angles) * deltaTimes) #y\n",
        "\n",
        "print(delta_a)\n",
        "print(delta_b)"
      ]
    },
    {
      "cell_type": "code",
      "execution_count": 8,
      "metadata": {
        "id": "b7jvz-TPFQkX"
      },
      "outputs": [],
      "source": [
        "#test using a single training sample\n",
        "def genData_opt(nSample = 1):\n",
        "    if(nSample == 0):\n",
        "        return\n",
        "\n",
        "    if torch.rand(1) > 0.5:\n",
        "        unique_rows = random.sample(range(b_train_da.shape[0]), nSample)\n",
        "        train_da_sample = b_train_da[unique_rows, :].squeeze()\n",
        "        train_db_sample = torch.tensor([0,1], dtype=torch.float64)\n",
        "        train_ctrl_sample = b_train_ctrl[unique_rows, :].squeeze() + b_means\n",
        "    else:\n",
        "        unique_rows = random.sample(range(a_train_db.shape[0]), nSample)\n",
        "        train_da_sample = torch.tensor([0,1], dtype=torch.float64)\n",
        "        train_db_sample = a_train_db[unique_rows, :].squeeze()\n",
        "        train_ctrl_sample = a_train_ctrl[unique_rows, :].squeeze() + a_means\n",
        "\n",
        "    return train_da_sample, train_db_sample, train_ctrl_sample"
      ]
    },
    {
      "cell_type": "code",
      "execution_count": 9,
      "metadata": {
        "colab": {
          "base_uri": "https://localhost:8080/"
        },
        "id": "QdSWgK118HtC",
        "outputId": "9a466ca7-b2b0-426e-ec9c-8c06d330f637"
      },
      "outputs": [
        {
          "name": "stdout",
          "output_type": "stream",
          "text": [
            "tensor([ 0.8965, -0.2143], dtype=torch.float64)\n",
            "tensor([0., 1.], dtype=torch.float64)\n",
            "tensor([[15.0000, 20.0000, -0.3747,  2.7657,  6.1092,  4.7015]],\n",
            "       dtype=torch.float64)\n",
            "tensor([[15.0002, 19.9964, -0.3769,  2.7567,  6.1048,  4.6942]],\n",
            "       dtype=torch.float64, grad_fn=<CopySlices>)\n"
          ]
        }
      ],
      "source": [
        "da_train, db_train, ctrl_train = genData_opt()\n",
        "print(da_train)\n",
        "print(db_train)\n",
        "ctrl = getControl(da_train, db_train)\n",
        "\n",
        "print(ctrl_train)\n",
        "print(ctrl)"
      ]
    },
    {
      "cell_type": "code",
      "execution_count": 11,
      "metadata": {
        "colab": {
          "base_uri": "https://localhost:8080/",
          "height": 545
        },
        "id": "mkFSlq7pdMzv",
        "outputId": "2e3ad6bb-3b9f-43c1-a71a-56a70343d51d"
      },
      "outputs": [
        {
          "name": "stdout",
          "output_type": "stream",
          "text": [
            "tensor([-33.8113,  11.3712])\n",
            "tensor([15.9243,  9.6778])\n",
            "tensor([[ 15.0099,  19.9863,   2.8721,  -0.2564, 234.3962, 181.9919]],\n",
            "       dtype=torch.float64, grad_fn=<CopySlices>)\n"
          ]
        },
        {
          "data": {
            "image/png": "[encoded data removed]",
            "text/plain": [
              "<Figure size 640x480 with 1 Axes>"
            ]
          },
          "metadata": {},
          "output_type": "display_data"
        },
        {
          "name": "stdout",
          "output_type": "stream",
          "text": [
            "tensor([17.5523, 53.9051], grad_fn=<CopySlices>)\n",
            "tensor([384.4048, 318.5010], grad_fn=<CopySlices>)\n"
          ]
        }
      ],
      "source": [
        "#test with a random da and db\n",
        "\n",
        "#limits for robot position\n",
        "XMIN = 10\n",
        "XMAX = 60\n",
        "YMIN = 20\n",
        "YMAX = 70\n",
        "\n",
        "a0 = torch.tensor([(XMAX-XMIN)*np.random.rand() + XMIN, (YMAX-YMIN)*np.random.rand() + YMIN])\n",
        "a1 = torch.tensor([(XMAX-XMIN)*np.random.rand() + XMIN, (YMAX-YMIN)*np.random.rand() + YMIN])\n",
        "b0 = torch.tensor([(XMAX-XMIN)*np.random.rand() + XMIN, (YMAX-YMIN)*np.random.rand() + YMIN])\n",
        "b1 = torch.tensor([(XMAX-XMIN)*np.random.rand() + XMIN, (YMAX-YMIN)*np.random.rand() + YMIN])\n",
        "\n",
        "start_a, = plt.plot(a0[0].detach().numpy(), a0[1].detach().numpy(), color = 'r', marker = 's', label = 'ubot A start')\n",
        "goal_a, = plt.plot(a1[0].detach().numpy(), a1[1].detach().numpy(), color = 'r', marker = 'x', label = 'ubot A goal')\n",
        "start_b, = plt.plot(b0[0].detach().numpy(), b0[1].detach().numpy(), color = 'b', marker = 's', label = 'ubot B start')\n",
        "goal_b, = plt.plot(b1[0].detach().numpy(), b1[1].detach().numpy(), color = 'b', marker = 'x', label = 'ubot B goal')\n",
        "\n",
        "da = a1 - a0\n",
        "db = b1 - b0\n",
        "print(da)\n",
        "print(db)\n",
        "\n",
        "ctrl = getControl(da,db)\n",
        "print(ctrl)\n",
        "\n",
        "speeds_a = interp1d(FREQS, MEAN_SPEED[0,:], torch.round(ctrl[:,0:2])).squeeze()\n",
        "speeds_b = interp1d(FREQS, MEAN_SPEED[1,:], torch.round(ctrl[:,0:2])).squeeze()\n",
        "angles = ctrl[:,2:4]\n",
        "deltaTimes = ctrl[:,4:6]\n",
        "\n",
        "delta_a = torch.zeros(2)\n",
        "delta_b = torch.zeros(2)\n",
        "\n",
        "delta_a[0] = torch.sum(speeds_a * torch.cos(angles) * deltaTimes) #x\n",
        "delta_a[1] = torch.sum(speeds_a * torch.sin(angles) * deltaTimes) #y\n",
        "delta_b[0] = torch.sum(speeds_b * torch.cos(angles) * deltaTimes) #x\n",
        "delta_b[1] = torch.sum(speeds_b * torch.sin(angles) * deltaTimes) #y\n",
        "\n",
        "numSteps = 5\n",
        "deltaTimes = deltaTimes / numSteps\n",
        "pos_a = np.zeros((2,2*numSteps+1))\n",
        "pos_b = np.zeros((2,2*numSteps+1))\n",
        "pos_a[:,0] = a0\n",
        "pos_b[:,0] = b0\n",
        "for i in range(1,numSteps+1):\n",
        "    pos_a[0,2*i-1] = pos_a[0,2*i-2] + speeds_a[0] * torch.cos(angles[0,0]) * deltaTimes[0,0] #x\n",
        "    pos_a[1,2*i-1] = pos_a[1,2*i-2] + speeds_a[0] * torch.sin(angles[0,0]) * deltaTimes[0,0] #y\n",
        "    pos_b[0,2*i-1] = pos_b[0,2*i-2] + speeds_b[0] * torch.cos(angles[0,0]) * deltaTimes[0,0] #x\n",
        "    pos_b[1,2*i-1] = pos_b[1,2*i-2] + speeds_b[0] * torch.sin(angles[0,0]) * deltaTimes[0,0] #y\n",
        "\n",
        "    pos_a[0,2*i] = pos_a[0,2*i-1] + speeds_a[1] * torch.cos(angles[0,1]) * deltaTimes[0,1] #x\n",
        "    pos_a[1,2*i] = pos_a[1,2*i-1] + speeds_a[1] * torch.sin(angles[0,1]) * deltaTimes[0,1] #y\n",
        "    pos_b[0,2*i] = pos_b[0,2*i-1] + speeds_b[1] * torch.cos(angles[0,1]) * deltaTimes[0,1] #x\n",
        "    pos_b[1,2*i] = pos_b[1,2*i-1] + speeds_b[1] * torch.sin(angles[0,1]) * deltaTimes[0,1] #y\n",
        "\n",
        "plt.scatter(pos_a[0,:], pos_a[1,:], color = 'r', marker = '.')\n",
        "plt.scatter(pos_b[0,:], pos_b[1,:], color = 'b', marker = '.')\n",
        "traj1, = plt.plot(pos_a[0,:], pos_a[1,:], color = 'r', marker = '.', label = 'ubot A')\n",
        "traj2, = plt.plot(pos_b[0,:], pos_b[1,:], color = 'b', marker = '.', label = 'ubot B')\n",
        "\n",
        "plt.legend(handles=[start_a, goal_a, start_b, goal_b])\n",
        "plt.show()\n",
        "print(delta_a)\n",
        "print(delta_b)"
      ]
    },
    {
      "cell_type": "code",
      "execution_count": 10,
      "metadata": {
        "colab": {
          "base_uri": "https://localhost:8080/"
        },
        "id": "1IyO-TKuwvaN",
        "outputId": "c241a7b7-6556-40ef-b965-12c88198808f"
      },
      "outputs": [
        {
          "name": "stdout",
          "output_type": "stream",
          "text": [
            "[[30.28713799 22.5057699  29.86690929 22.08554121 29.4466806  21.66531252\n",
            "  29.02645191 21.24508383 28.60622322 20.82485514 28.18599453]\n",
            " [48.13459778 41.25214665 47.40283357 40.52038245 46.67106936 39.78861824\n",
            "  45.93930516 39.05685403 45.20754095 38.32508983 44.47577674]]\n"
          ]
        }
      ],
      "source": [
        "print(pos_a)"
      ]
    },
    {
      "cell_type": "code",
      "execution_count": 11,
      "metadata": {
        "id": "Z9mImrRqCmIp"
      },
      "outputs": [],
      "source": [
        "import copy\n",
        "import time\n",
        "import matplotlib.pyplot as plt\n",
        "#from scipy.interpolate import interp1d\n",
        "\n",
        "NUMBER_OF_AGENTS = 2\n",
        "\n",
        "#limits for robot position\n",
        "XMIN = 10\n",
        "XMAX = 60\n",
        "YMIN = 20\n",
        "YMAX = 70\n",
        "\n",
        "def simulate(xi = None,xf = None, animate_flag = True):\n",
        "    '''\n",
        "    xi: 2Xn list for the  initail confguration of N robots\n",
        "    xf: 2Xn list for the final confguration of N robots\n",
        "    '''\n",
        "    # Just for testing:\n",
        "    init_current_positions = [XMAX-XMIN, YMAX-YMIN]*np.random.rand(NUMBER_OF_AGENTS,2) + [XMIN, YMIN]\n",
        "    init_current_positions = np.reshape(init_current_positions, [-1, 2*NUMBER_OF_AGENTS])\n",
        "    #^^^^^^^^^^^^^^^^^^\n",
        "    print(init_current_positions)\n",
        "    init_current_positions = [[xi, xf]]\n",
        "    print(init_current_positions)\n",
        "\n",
        "\n",
        "    dt = .1\n",
        "    nBots = len(xi)\n",
        "    Dx = xf-xi\n",
        "    # u = getControl(Dx)                # TODO 1: get from Andrew. u = [f,alpha, N dt] X 2; dt = 0.1\n",
        "    u = torch.tensor([3,2,0.5, -.3,4,6])  # Freqs, angles, durations TODO Double check with Andrew's function.\n",
        "    DTs= u[4:]/dt\n",
        "    # speed = getSpeed([u[0,:]])                  # TODO: get from Andrew\n",
        "    speeds = [interp1d(FREQS, MEAN_SPEED[0,:], torch.abs(u[0:2])) * torch.sign(u[0:2]),\n",
        "            interp1d(FREQS, MEAN_SPEED[1,:], torch.abs(u[0:2])) * torch.sign(u[0:2])]\n",
        "    print(speeds)\n",
        "    newPos = copy.copy(init_current_positions)\n",
        "    traj = []\n",
        "    colors = ['r','b']\n",
        "    for ic in range(2): # control equince\n",
        "        # Evolve the multi-agent system:\n",
        "        #  # evolve the position of ecah robot indvedually\n",
        "        for j in range(int(DTs[ic])):\n",
        "            for i in range(nBots):\n",
        "                newPos[0,2*i:2*i+2] = copy.copy(newPos[0,2*i:2*i+2]) +  \\\n",
        "                    speeds[i][0][ic].item() * dt * np.array([np.cos(u[2+ic].item()), np.sin(u[2+ic].item())]) # TODO 5 the dynamics\n",
        "                if animate_flag: # TODO 7 animate the robots\n",
        "                    plt.scatter(newPos[0,i],newPos[0,i+2],color = colors[i])\n",
        "                    # time.sleep(0.1)\n",
        "                    #plt.show()\n",
        "            init_current_positions = copy.copy(newPos)\n",
        "            traj.append(newPos)     # FIXME there will be repetetion\n",
        "\n",
        "    plt.show()"
      ]
    },
    {
      "cell_type": "code",
      "execution_count": 12,
      "metadata": {
        "colab": {
          "base_uri": "https://localhost:8080/",
          "height": 348
        },
        "id": "lhW8I7-BDDd3",
        "outputId": "eeb2330c-c405-40b8-8b0c-64402e7aabbc"
      },
      "outputs": [
        {
          "name": "stdout",
          "output_type": "stream",
          "text": [
            "[[33.41016313 42.52485426 26.77888097 63.46615482]]\n",
            "[[[(1.1, 2.2), (2, 5)], [(4, 2.2), (0, 5)]]]\n"
          ]
        },
        {
          "ename": "TypeError",
          "evalue": "unsupported operand type(s) for -: 'list' and 'list'",
          "output_type": "error",
          "traceback": [
            "\u001b[0;31m---------------------------------------------------------------------------\u001b[0m",
            "\u001b[0;31mTypeError\u001b[0m                                 Traceback (most recent call last)",
            "Cell \u001b[0;32mIn[12], line 3\u001b[0m\n\u001b[1;32m      1\u001b[0m xi \u001b[38;5;241m=\u001b[39m [(\u001b[38;5;241m1.1\u001b[39m,\u001b[38;5;241m2.2\u001b[39m),(\u001b[38;5;241m2\u001b[39m,\u001b[38;5;241m5\u001b[39m)]\n\u001b[1;32m      2\u001b[0m xf \u001b[38;5;241m=\u001b[39m [(\u001b[38;5;241m4\u001b[39m,\u001b[38;5;241m2.2\u001b[39m),(\u001b[38;5;241m0\u001b[39m,\u001b[38;5;241m5\u001b[39m)]\n\u001b[0;32m----> 3\u001b[0m simulate(xi\u001b[38;5;241m=\u001b[39mxi, xf\u001b[38;5;241m=\u001b[39mxf)\n",
            "Cell \u001b[0;32mIn[11], line 30\u001b[0m, in \u001b[0;36msimulate\u001b[0;34m(xi, xf, animate_flag)\u001b[0m\n\u001b[1;32m     28\u001b[0m dt \u001b[38;5;241m=\u001b[39m \u001b[38;5;241m.1\u001b[39m\n\u001b[1;32m     29\u001b[0m nBots \u001b[38;5;241m=\u001b[39m \u001b[38;5;28mlen\u001b[39m(xi)\n\u001b[0;32m---> 30\u001b[0m Dx \u001b[38;5;241m=\u001b[39m xf\u001b[38;5;241m-\u001b[39mxi\n\u001b[1;32m     31\u001b[0m \u001b[38;5;66;03m# u = getControl(Dx)                # TODO 1: get from Andrew. u = [f,alpha, N dt] X 2; dt = 0.1\u001b[39;00m\n\u001b[1;32m     32\u001b[0m u \u001b[38;5;241m=\u001b[39m torch\u001b[38;5;241m.\u001b[39mtensor([\u001b[38;5;241m3\u001b[39m,\u001b[38;5;241m2\u001b[39m,\u001b[38;5;241m0.5\u001b[39m, \u001b[38;5;241m-\u001b[39m\u001b[38;5;241m.3\u001b[39m,\u001b[38;5;241m4\u001b[39m,\u001b[38;5;241m6\u001b[39m])  \u001b[38;5;66;03m# Freqs, angles, durations TODO Double check with Andrew's function.\u001b[39;00m\n",
            "\u001b[0;31mTypeError\u001b[0m: unsupported operand type(s) for -: 'list' and 'list'"
          ]
        }
      ],
      "source": [
        "xi = [(1.1,2.2),(2,5)]\n",
        "xf = [(4,2.2),(0,5)]\n",
        "simulate(xi=xi, xf=xf)"
      ]
    }
  ],
  "metadata": {
    "colab": {
      "provenance": []
    },
    "kernelspec": {
      "display_name": "Python 3",
      "name": "python3"
    },
    "language_info": {
      "codemirror_mode": {
        "name": "ipython",
        "version": 3
      },
      "file_extension": ".py",
      "mimetype": "text/x-python",
      "name": "python",
      "nbconvert_exporter": "python",
      "pygments_lexer": "ipython3",
      "version": "3.8.7"
    }
  },
  "nbformat": 4,
  "nbformat_minor": 0
}
